{
 "cells": [
  {
   "cell_type": "markdown",
   "id": "f17de5ba",
   "metadata": {},
   "source": [
    "## How to draw and text on images"
   ]
  },
  {
   "cell_type": "code",
   "execution_count": 1,
   "id": "afe1b942",
   "metadata": {},
   "outputs": [],
   "source": [
    "import cv2\n",
    "import numpy as np"
   ]
  },
  {
   "cell_type": "code",
   "execution_count": null,
   "id": "1bc942dc",
   "metadata": {},
   "outputs": [],
   "source": [
    "blank = np.zeros((500,500), dtype=\"uint8\") # Creating zero array and uint --> datatype of an image\n",
    "cv2.imshow(\"Blank image\", blank)\n",
    "img = cv2.imread(\"Images/Boy pic.jpg\")\n",
    "cv2.imshow(\"Boy\", img)\n",
    "cv2.waitKey(0)"
   ]
  },
  {
   "cell_type": "code",
   "execution_count": 3,
   "id": "40372a51",
   "metadata": {},
   "outputs": [
    {
     "data": {
      "text/plain": [
       "-1"
      ]
     },
     "execution_count": 3,
     "metadata": {},
     "output_type": "execute_result"
    }
   ],
   "source": [
    "# blank green image\n",
    "g_blank = np.zeros((500,500,3), dtype=\"uint8\")\n",
    "g_blank[:] = 0,255,0\n",
    "cv2.imshow(\"Grenn blank image\",g_blank)\n",
    "cv2.waitKey(0)"
   ]
  },
  {
   "cell_type": "code",
   "execution_count": null,
   "id": "63c6e930",
   "metadata": {},
   "outputs": [],
   "source": [
    "# blank red image\n",
    "Red_blank = np.zeros((500,500,3), dtype=\"uint8\")\n",
    "Red_blank[:] = 0,0,255\n",
    "cv2.imshow(\"Grenn blank image\",Red_blank)\n",
    "cv2.waitKey(0)"
   ]
  },
  {
   "cell_type": "code",
   "execution_count": 5,
   "id": "4129c1c6",
   "metadata": {},
   "outputs": [
    {
     "data": {
      "text/plain": [
       "-1"
      ]
     },
     "execution_count": 5,
     "metadata": {},
     "output_type": "execute_result"
    }
   ],
   "source": [
    "# Taking portation of pixles with color\n",
    "g_blank = np.zeros((500,500,3), dtype=\"uint8\")\n",
    "g_blank[150:200,200:300] = 0,255,0\n",
    "cv2.imshow(\"Grenn blank image\",g_blank)\n",
    "cv2.waitKey(0)"
   ]
  },
  {
   "cell_type": "markdown",
   "id": "dc8a0eed",
   "metadata": {},
   "source": [
    "### Draw a rectangle "
   ]
  },
  {
   "cell_type": "code",
   "execution_count": 24,
   "id": "9d21cec4",
   "metadata": {},
   "outputs": [
    {
     "data": {
      "text/plain": [
       "-1"
      ]
     },
     "execution_count": 24,
     "metadata": {},
     "output_type": "execute_result"
    }
   ],
   "source": [
    "blank_img = np.zeros((250,250,3), dtype=\"uint8\") #Creating blank img\n",
    "cv2.imshow(\"Blank img\", blank_img) # See the blank img\n",
    "# Creating rectangle with #Co-ordinates and color of rectangle and thickness\n",
    "cv2.rectangle(blank_img, (10,10),(100,100), (0,255,0), thickness=2)  \n",
    "cv2.imshow(\"rectangle img\", blank_img)\n",
    "cv2.waitKey(0)"
   ]
  },
  {
   "cell_type": "code",
   "execution_count": 28,
   "id": "7b552e32",
   "metadata": {},
   "outputs": [
    {
     "data": {
      "text/plain": [
       "-1"
      ]
     },
     "execution_count": 28,
     "metadata": {},
     "output_type": "execute_result"
    }
   ],
   "source": [
    "# rectangle with full filled\n",
    "blank_img = np.zeros((500,500,3), dtype='uint8')\n",
    "cv2.rectangle(blank_img, (0,0), (250,250), (0,255,0), thickness=cv2.FILLED) \n",
    "cv2.imshow('rectangle', blank_img)\n",
    "cv2.waitKey(0)"
   ]
  },
  {
   "cell_type": "markdown",
   "id": "ede7dc6d",
   "metadata": {},
   "source": [
    "### Draw circle"
   ]
  },
  {
   "cell_type": "code",
   "execution_count": 29,
   "id": "d6681fd5",
   "metadata": {},
   "outputs": [
    {
     "data": {
      "text/plain": [
       "-1"
      ]
     },
     "execution_count": 29,
     "metadata": {},
     "output_type": "execute_result"
    }
   ],
   "source": [
    "blank_img = np.zeros((500,500,3), dtype=\"uint8\")\n",
    "cv2.circle(blank_img, (250,250), 40, (0,0,255), thickness=2) #co-ordinates and radius\n",
    "cv2.imshow(\"Circle\", blank_img)\n",
    "cv2.waitKey(0)"
   ]
  },
  {
   "cell_type": "code",
   "execution_count": 30,
   "id": "b19769a3",
   "metadata": {},
   "outputs": [
    {
     "data": {
      "text/plain": [
       "-1"
      ]
     },
     "execution_count": 30,
     "metadata": {},
     "output_type": "execute_result"
    }
   ],
   "source": [
    "blank_img = np.zeros((500,500,3), dtype=\"uint8\")\n",
    "cv2.circle(blank_img, (250,250), 40, (0,0,255), thickness=-1)\n",
    "cv2.imshow(\"Circle\", blank_img)\n",
    "cv2.waitKey(0)"
   ]
  },
  {
   "cell_type": "markdown",
   "id": "c0b8153c",
   "metadata": {},
   "source": [
    "### Draw a line"
   ]
  },
  {
   "cell_type": "code",
   "execution_count": 32,
   "id": "ad5da92a",
   "metadata": {},
   "outputs": [
    {
     "data": {
      "text/plain": [
       "-1"
      ]
     },
     "execution_count": 32,
     "metadata": {},
     "output_type": "execute_result"
    }
   ],
   "source": [
    "blank_img = np.zeros((500,500,3), dtype=\"uint8\")\n",
    "cv2.line(blank_img, (5,10), (150,125),(255,255,255),thickness=1)\n",
    "cv2.imshow(\"Line\", blank_img)\n",
    "cv2.waitKey(0)"
   ]
  },
  {
   "cell_type": "markdown",
   "id": "e8739c94",
   "metadata": {},
   "source": [
    "### Write a text on image"
   ]
  },
  {
   "cell_type": "code",
   "execution_count": 36,
   "id": "7eebdb5e",
   "metadata": {},
   "outputs": [
    {
     "data": {
      "text/plain": [
       "-1"
      ]
     },
     "execution_count": 36,
     "metadata": {},
     "output_type": "execute_result"
    }
   ],
   "source": [
    "blank_img = np.zeros((500,500,3), dtype=\"uint8\")\n",
    "cv2.putText(blank_img, \"Hello folks!!\", (255,255), cv2.FONT_HERSHEY_TRIPLEX, 1.0, (0,255,0), 2)\n",
    "# Passing{img, text, co-ordinates, font, scale-font, color of text, thickness}\n",
    "cv2.imshow(\"Text\", blank_img)\n",
    "cv2.waitKey(0)"
   ]
  },
  {
   "cell_type": "code",
   "execution_count": null,
   "id": "d33c6cde",
   "metadata": {},
   "outputs": [],
   "source": []
  },
  {
   "cell_type": "code",
   "execution_count": null,
   "id": "0abcb200",
   "metadata": {},
   "outputs": [],
   "source": []
  },
  {
   "cell_type": "code",
   "execution_count": null,
   "id": "c79529c0",
   "metadata": {},
   "outputs": [],
   "source": []
  }
 ],
 "metadata": {
  "kernelspec": {
   "display_name": "Python 3 (ipykernel)",
   "language": "python",
   "name": "python3"
  },
  "language_info": {
   "codemirror_mode": {
    "name": "ipython",
    "version": 3
   },
   "file_extension": ".py",
   "mimetype": "text/x-python",
   "name": "python",
   "nbconvert_exporter": "python",
   "pygments_lexer": "ipython3",
   "version": "3.9.12"
  }
 },
 "nbformat": 4,
 "nbformat_minor": 5
}
