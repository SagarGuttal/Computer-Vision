{
 "cells": [
  {
   "cell_type": "code",
   "execution_count": 1,
   "id": "54764bb2",
   "metadata": {},
   "outputs": [
    {
     "name": "stdout",
     "output_type": "stream",
     "text": [
      "Defaulting to user installation because normal site-packages is not writeable\n",
      "Requirement already satisfied: opencv-python in c:\\users\\sagar guttal\\appdata\\roaming\\python\\python39\\site-packages (4.6.0.66)\n",
      "Requirement already satisfied: numpy>=1.19.3 in c:\\programdata\\anaconda3\\lib\\site-packages (from opencv-python) (1.21.5)\n"
     ]
    }
   ],
   "source": [
    "# ! pip install opencv-python"
   ]
  },
  {
   "cell_type": "code",
   "execution_count": 2,
   "id": "8240bb3d",
   "metadata": {},
   "outputs": [
    {
     "name": "stdout",
     "output_type": "stream",
     "text": [
      "Defaulting to user installation because normal site-packages is not writeable\n",
      "Collecting caer\n",
      "  Using cached caer-2.0.8-py3-none-any.whl (809 kB)\n",
      "Requirement already satisfied: typing-extensions in c:\\programdata\\anaconda3\\lib\\site-packages (from caer) (4.1.1)\n",
      "Collecting opencv-contrib-python\n",
      "  Using cached opencv_contrib_python-4.6.0.66-cp36-abi3-win_amd64.whl (42.5 MB)\n",
      "Collecting mypy\n",
      "  Downloading mypy-0.971-cp39-cp39-win_amd64.whl (8.7 MB)\n",
      "Requirement already satisfied: numpy in c:\\programdata\\anaconda3\\lib\\site-packages (from caer) (1.21.5)\n",
      "Requirement already satisfied: mypy-extensions>=0.4.3 in c:\\programdata\\anaconda3\\lib\\site-packages (from mypy->caer) (0.4.3)\n",
      "Requirement already satisfied: tomli>=1.1.0 in c:\\programdata\\anaconda3\\lib\\site-packages (from mypy->caer) (1.2.2)\n",
      "Installing collected packages: opencv-contrib-python, mypy, caer\n"
     ]
    },
    {
     "name": "stderr",
     "output_type": "stream",
     "text": [
      "  WARNING: The scripts dmypy.exe, mypy.exe, mypyc.exe, stubgen.exe and stubtest.exe are installed in 'C:\\Users\\Sagar Guttal\\AppData\\Roaming\\Python\\Python39\\Scripts' which is not on PATH.\n",
      "  Consider adding this directory to PATH or, if you prefer to suppress this warning, use --no-warn-script-location.\n"
     ]
    },
    {
     "name": "stdout",
     "output_type": "stream",
     "text": [
      "Successfully installed caer-2.0.8 mypy-0.971 opencv-contrib-python-4.6.0.66\n"
     ]
    }
   ],
   "source": [
    "# ! pip install caer"
   ]
  },
  {
   "cell_type": "markdown",
   "id": "5a4a1ab3",
   "metadata": {},
   "source": [
    "## Reading images and vedios"
   ]
  },
  {
   "cell_type": "code",
   "execution_count": 1,
   "id": "f17251f1",
   "metadata": {},
   "outputs": [],
   "source": [
    "import cv2 as cv"
   ]
  },
  {
   "cell_type": "code",
   "execution_count": 3,
   "id": "8eb9c7f5",
   "metadata": {},
   "outputs": [
    {
     "data": {
      "text/plain": [
       "array([[[255, 255, 255],\n",
       "        [255, 255, 255],\n",
       "        [255, 255, 255],\n",
       "        ...,\n",
       "        [106,  93,  95],\n",
       "        [106,  93,  95],\n",
       "        [106,  93,  95]],\n",
       "\n",
       "       [[255, 255, 255],\n",
       "        [255, 255, 255],\n",
       "        [255, 255, 255],\n",
       "        ...,\n",
       "        [106,  93,  95],\n",
       "        [106,  93,  95],\n",
       "        [106,  93,  95]],\n",
       "\n",
       "       [[255, 255, 255],\n",
       "        [255, 255, 255],\n",
       "        [255, 255, 255],\n",
       "        ...,\n",
       "        [106,  93,  95],\n",
       "        [106,  93,  95],\n",
       "        [106,  93,  95]],\n",
       "\n",
       "       ...,\n",
       "\n",
       "       [[244, 244, 244],\n",
       "        [244, 244, 244],\n",
       "        [244, 244, 244],\n",
       "        ...,\n",
       "        [ 87, 104, 125],\n",
       "        [ 87, 104, 125],\n",
       "        [ 87, 104, 125]],\n",
       "\n",
       "       [[244, 244, 244],\n",
       "        [244, 244, 244],\n",
       "        [244, 244, 244],\n",
       "        ...,\n",
       "        [ 86, 103, 124],\n",
       "        [ 86, 103, 124],\n",
       "        [ 86, 103, 124]],\n",
       "\n",
       "       [[244, 244, 244],\n",
       "        [244, 244, 244],\n",
       "        [244, 244, 244],\n",
       "        ...,\n",
       "        [ 85, 102, 123],\n",
       "        [ 85, 102, 123],\n",
       "        [ 85, 102, 123]]], dtype=uint8)"
      ]
     },
     "execution_count": 3,
     "metadata": {},
     "output_type": "execute_result"
    }
   ],
   "source": [
    "# convert img into pixles ans inform of array\n",
    "img = cv.imread(\"Images/sagar.jpg\")\n",
    "img"
   ]
  },
  {
   "cell_type": "code",
   "execution_count": 4,
   "id": "bef68e75",
   "metadata": {},
   "outputs": [
    {
     "data": {
      "text/plain": [
       "(4000, 6000, 3)"
      ]
     },
     "execution_count": 4,
     "metadata": {},
     "output_type": "execute_result"
    }
   ],
   "source": [
    "#size of image\n",
    "img.shape"
   ]
  },
  {
   "cell_type": "code",
   "execution_count": 5,
   "id": "ad76a414",
   "metadata": {},
   "outputs": [
    {
     "data": {
      "text/plain": [
       "-1"
      ]
     },
     "execution_count": 5,
     "metadata": {},
     "output_type": "execute_result"
    }
   ],
   "source": [
    "#it opens in new windom\n",
    "cv.imshow(\"sagar\", img)\n",
    "cv.waitKey(0) # Specifing window close time"
   ]
  },
  {
   "cell_type": "code",
   "execution_count": 7,
   "id": "4e974841",
   "metadata": {},
   "outputs": [
    {
     "data": {
      "text/plain": [
       "102"
      ]
     },
     "execution_count": 7,
     "metadata": {},
     "output_type": "execute_result"
    }
   ],
   "source": [
    "boy_img =cv.imread(\"Images/Boy pic.jpg\")\n",
    "cv.imshow(\"boy\", boy_img)\n",
    "cv.waitKey(0)"
   ]
  },
  {
   "cell_type": "code",
   "execution_count": 6,
   "id": "c6d14945",
   "metadata": {},
   "outputs": [],
   "source": [
    "# read the vedio frame by frame\n",
    "capture = cv.VideoCapture(\"Images/vedios.mp4\") # Capture the vedio from system\n",
    "while True:\n",
    "    isTrue, frame = capture.read() # Read the img\n",
    "    cv.imshow(\"Vedio\", frame) #Show the img\n",
    "    if cv.waitKey(20) & 0xFF==ord('d'): # for close the vedio\n",
    "        break\n",
    "capture.release() \n",
    "cv.destroyAllWindows()"
   ]
  },
  {
   "cell_type": "code",
   "execution_count": 7,
   "id": "d81ed9cd",
   "metadata": {},
   "outputs": [],
   "source": [
    "# read the vedio frame by frame\n",
    "capture = cv.VideoCapture(0) # Capture the vedio from webcam of system  {0 --> firstcamera 1-->secondcamera}\n",
    "while True:\n",
    "    isTrue, frame = capture.read() # Read the img\n",
    "    cv.imshow(\"Vedio\", frame) #Show the img\n",
    "    if cv.waitKey(20) & 0xFF==ord('d'): # for close the vedio\n",
    "        break\n",
    "capture.release() \n",
    "cv.destroyAllWindows()"
   ]
  },
  {
   "cell_type": "markdown",
   "id": "34dc0e39",
   "metadata": {},
   "source": [
    "## Resizing and Rescaling"
   ]
  },
  {
   "cell_type": "code",
   "execution_count": 8,
   "id": "ba5bff47",
   "metadata": {},
   "outputs": [
    {
     "data": {
      "text/plain": [
       "(4000, 6000, 3)"
      ]
     },
     "execution_count": 8,
     "metadata": {},
     "output_type": "execute_result"
    }
   ],
   "source": [
    "#Read img\n",
    "img = cv.imread(\"Images/sagar.jpg\")\n",
    "#Size of img\n",
    "img.shape"
   ]
  },
  {
   "cell_type": "code",
   "execution_count": 9,
   "id": "24b07a41",
   "metadata": {},
   "outputs": [],
   "source": [
    "def resize_img(img, scale):\n",
    "    width = int(img.shape[1]*scale)\n",
    "    height = int(img.shape[0]*scale)\n",
    "    dimensions = (width,height)\n",
    "    \n",
    "    return cv.resize(img, dimensions, interpolation=cv.INTER_AREA)"
   ]
  },
  {
   "cell_type": "code",
   "execution_count": 10,
   "id": "5d9bc3fc",
   "metadata": {},
   "outputs": [
    {
     "data": {
      "text/plain": [
       "(1600, 2400, 3)"
      ]
     },
     "execution_count": 10,
     "metadata": {},
     "output_type": "execute_result"
    }
   ],
   "source": [
    "# converted image size with scaled value like 40% size by whole 100%\n",
    "rescaled_img = resize_img(img,scale=0.40)\n",
    "rescaled_img.shape"
   ]
  },
  {
   "cell_type": "code",
   "execution_count": 11,
   "id": "a5c17d38",
   "metadata": {},
   "outputs": [
    {
     "data": {
      "text/plain": [
       "100"
      ]
     },
     "execution_count": 11,
     "metadata": {},
     "output_type": "execute_result"
    }
   ],
   "source": [
    "#Read the scaled img in new window\n",
    "cv.imshow(\"scaled img\", rescaled_img)\n",
    "cv.waitKey(0)"
   ]
  },
  {
   "cell_type": "code",
   "execution_count": 12,
   "id": "4039c487",
   "metadata": {},
   "outputs": [
    {
     "data": {
      "text/plain": [
       "(250, 250, 3)"
      ]
     },
     "execution_count": 12,
     "metadata": {},
     "output_type": "execute_result"
    }
   ],
   "source": [
    "# Directly we can resize by giving dimensions\n",
    "scaled_img_1 = cv.resize(rescaled_img, (250,250))\n",
    "scaled_img_1.shape"
   ]
  },
  {
   "cell_type": "code",
   "execution_count": 13,
   "id": "ca19a27f",
   "metadata": {},
   "outputs": [],
   "source": [
    "# for vedios\n",
    "def resize_img(frame, scale):\n",
    "    width = int(frame.shape[1]*scale)\n",
    "    height = int(frame.shape[0]*scale)\n",
    "    dimensions = (width,height)\n",
    "    \n",
    "    return cv.resize(frame, dimensions, interpolation=cv.INTER_AREA)"
   ]
  },
  {
   "cell_type": "code",
   "execution_count": null,
   "id": "bda4dcd7",
   "metadata": {},
   "outputs": [],
   "source": [
    "capture_1 = cv.VideoCapture(\"vedios.mp4\")\n",
    "while True:\n",
    "    isTrue, frame = capture_1.read()\n",
    "    scaled_frame = resize_img(frame,scale=0.75)\n",
    "    cv.imshow(\"Original frame\", frame)\n",
    "    cv.imshow(\"Scaled frame\", scaled_frame)\n",
    "    if cv.waitKey(0) and 0xFF==ord('e'):\n",
    "        break\n"
   ]
  }
 ],
 "metadata": {
  "kernelspec": {
   "display_name": "Python 3 (ipykernel)",
   "language": "python",
   "name": "python3"
  },
  "language_info": {
   "codemirror_mode": {
    "name": "ipython",
    "version": 3
   },
   "file_extension": ".py",
   "mimetype": "text/x-python",
   "name": "python",
   "nbconvert_exporter": "python",
   "pygments_lexer": "ipython3",
   "version": "3.9.12"
  }
 },
 "nbformat": 4,
 "nbformat_minor": 5
}
