{
 "cells": [
  {
   "cell_type": "markdown",
   "id": "f17de5ba",
   "metadata": {},
   "source": [
    "## How to draw and text on images"
   ]
  },
  {
   "cell_type": "code",
   "execution_count": 1,
   "id": "afe1b942",
   "metadata": {},
   "outputs": [],
   "source": [
    "import cv2\n",
    "import numpy as np"
   ]
  },
  {
   "cell_type": "code",
   "execution_count": 2,
   "id": "1bc942dc",
   "metadata": {},
   "outputs": [
    {
     "data": {
      "text/plain": [
       "-1"
      ]
     },
     "execution_count": 2,
     "metadata": {},
     "output_type": "execute_result"
    }
   ],
   "source": [
    "blank = np.zeros((500,500), dtype=\"uint8\") # Creating zero array and uint --> datatype of an image\n",
    "cv2.imshow(\"Blank image\", blank)\n",
    "img = cv2.imread(\"Images/Boy pic.jpg\")\n",
    "cv2.imshow(\"Boy\", img)\n",
    "cv2.waitKey(0)"
   ]
  },
  {
   "cell_type": "code",
   "execution_count": 3,
   "id": "40372a51",
   "metadata": {},
   "outputs": [
    {
     "data": {
      "text/plain": [
       "-1"
      ]
     },
     "execution_count": 3,
     "metadata": {},
     "output_type": "execute_result"
    }
   ],
   "source": [
    "# blank green image\n",
    "g_blank = np.zeros((500,500,3), dtype=\"uint8\")\n",
    "g_blank[:] = 0,255,0\n",
    "cv2.imshow(\"Grenn blank image\",g_blank)\n",
    "cv2.waitKey(0)"
   ]
  },
  {
   "cell_type": "code",
   "execution_count": 4,
   "id": "63c6e930",
   "metadata": {},
   "outputs": [
    {
     "data": {
      "text/plain": [
       "-1"
      ]
     },
     "execution_count": 4,
     "metadata": {},
     "output_type": "execute_result"
    }
   ],
   "source": [
    "# blank red image\n",
    "Red_blank = np.zeros((500,500,3), dtype=\"uint8\")\n",
    "Red_blank[:] = 0,0,255\n",
    "cv2.imshow(\"Grenn blank image\",Red_blank)\n",
    "cv2.waitKey(0)"
   ]
  },
  {
   "cell_type": "code",
   "execution_count": 5,
   "id": "4129c1c6",
   "metadata": {},
   "outputs": [
    {
     "data": {
      "text/plain": [
       "-1"
      ]
     },
     "execution_count": 5,
     "metadata": {},
     "output_type": "execute_result"
    }
   ],
   "source": [
    "# Taking portation of pixles with color\n",
    "g_blank = np.zeros((500,500,3), dtype=\"uint8\")\n",
    "g_blank[150:200,200:300] = 0,255,0\n",
    "cv2.imshow(\"Grenn blank image\",g_blank)\n",
    "cv2.waitKey(0)"
   ]
  },
  {
   "cell_type": "markdown",
   "id": "aba9d906",
   "metadata": {},
   "source": [
    "### Draw a rectangle "
   ]
  },
  {
   "cell_type": "code",
   "execution_count": 24,
   "id": "9d21cec4",
   "metadata": {},
   "outputs": [
    {
     "data": {
      "text/plain": [
       "-1"
      ]
     },
     "execution_count": 24,
     "metadata": {},
     "output_type": "execute_result"
    }
   ],
   "source": [
    "blank_img = np.zeros((250,250,3), dtype=\"uint8\") #Creating blank img\n",
    "cv2.imshow(\"Blank img\", blank_img) # See the blank img\n",
    "# Creating rectangle with #Co-ordinates and color of rectangle and thickness\n",
    "cv2.rectangle(blank_img, (10,10),(100,100), (0,255,0), thickness=2)  \n",
    "cv2.imshow(\"rectangle img\", blank_img)\n",
    "cv2.waitKey(0)"
   ]
  },
  {
   "cell_type": "code",
   "execution_count": 28,
   "id": "b4197878",
   "metadata": {},
   "outputs": [
    {
     "data": {
      "text/plain": [
       "-1"
      ]
     },
     "execution_count": 28,
     "metadata": {},
     "output_type": "execute_result"
    }
   ],
   "source": [
    "blank_img = np.zeros((500,500,3), dtype='uint8')\n",
    "cv2.rectangle(blank_img, (0,0), (250,250), (0,255,0), thickness=cv2.FILLED)\n",
    "cv2.imshow('rectangle', blank_img)\n",
    "cv2.waitKey(0)"
   ]
  },
  {
   "cell_type": "code",
   "execution_count": null,
   "id": "56abef0d",
   "metadata": {},
   "outputs": [],
   "source": []
  }
 ],
 "metadata": {
  "kernelspec": {
   "display_name": "Python 3 (ipykernel)",
   "language": "python",
   "name": "python3"
  },
  "language_info": {
   "codemirror_mode": {
    "name": "ipython",
    "version": 3
   },
   "file_extension": ".py",
   "mimetype": "text/x-python",
   "name": "python",
   "nbconvert_exporter": "python",
   "pygments_lexer": "ipython3",
   "version": "3.9.12"
  }
 },
 "nbformat": 4,
 "nbformat_minor": 5
}
